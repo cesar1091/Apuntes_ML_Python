{
 "cells": [
  {
   "cell_type": "markdown",
   "metadata": {},
   "source": [
    "# El método de K-Means"
   ]
  },
  {
   "cell_type": "code",
   "execution_count": 1,
   "metadata": {},
   "outputs": [],
   "source": [
    "import numpy as np"
   ]
  },
  {
   "cell_type": "code",
   "execution_count": 2,
   "metadata": {},
   "outputs": [
    {
     "data": {
      "text/plain": [
       "array([[0.91823341, 0.40919813, 0.88858187],\n",
       "       [0.36683316, 0.48143397, 0.99345699],\n",
       "       [0.97887511, 0.8545259 , 0.10177445],\n",
       "       [0.13200382, 0.59401063, 0.86894089],\n",
       "       [0.55742305, 0.61729446, 0.29232149],\n",
       "       [0.15721604, 0.34027192, 0.27275093],\n",
       "       [0.40239756, 0.92131222, 0.53333511],\n",
       "       [0.28839792, 0.08250718, 0.06450356],\n",
       "       [0.74895639, 0.77398725, 0.36273074],\n",
       "       [0.12665494, 0.45287315, 0.45698104],\n",
       "       [0.54703628, 0.78416818, 0.80526993],\n",
       "       [0.75154459, 0.48626225, 0.40421197],\n",
       "       [0.42329807, 0.35875813, 0.28423007],\n",
       "       [0.97802271, 0.61262701, 0.44013278],\n",
       "       [0.05878594, 0.64840783, 0.83468771],\n",
       "       [0.69649659, 0.52080947, 0.10111274],\n",
       "       [0.50538152, 0.83436962, 0.00337403],\n",
       "       [0.54929334, 0.14804699, 0.38838942],\n",
       "       [0.86755082, 0.20673664, 0.57537127],\n",
       "       [0.73116585, 0.0204999 , 0.78480765],\n",
       "       [0.85554572, 0.3408815 , 0.51440502],\n",
       "       [0.96820347, 0.79155605, 0.49628664],\n",
       "       [0.81502146, 0.2795118 , 0.1898529 ],\n",
       "       [0.18006128, 0.31776503, 0.8198624 ],\n",
       "       [0.83813854, 0.15922778, 0.31794179],\n",
       "       [0.87245113, 0.87116787, 0.84166248],\n",
       "       [0.52405845, 0.22687372, 0.00319485],\n",
       "       [0.80125859, 0.63038405, 0.31885803],\n",
       "       [0.77782127, 0.01776279, 0.84302163],\n",
       "       [0.37255774, 0.40421052, 0.80338774]])"
      ]
     },
     "execution_count": 2,
     "metadata": {},
     "output_type": "execute_result"
    }
   ],
   "source": [
    "data = np.random.random(90).reshape(30,3)\n",
    "data"
   ]
  },
  {
   "cell_type": "code",
   "execution_count": 4,
   "metadata": {},
   "outputs": [
    {
     "data": {
      "text/plain": [
       "array([[0.28839792, 0.08250718, 0.06450356],\n",
       "       [0.40239756, 0.92131222, 0.53333511]])"
      ]
     },
     "execution_count": 4,
     "metadata": {},
     "output_type": "execute_result"
    }
   ],
   "source": [
    "c1 = np.random.choice(range(len(data)))\n",
    "c2 = np.random.choice(range(len(data)))\n",
    "clust_center = np.vstack((data[c1], data[c2]))\n",
    "clust_center"
   ]
  },
  {
   "cell_type": "code",
   "execution_count": 5,
   "metadata": {},
   "outputs": [],
   "source": [
    "from scipy.cluster.vq import vq"
   ]
  },
  {
   "cell_type": "code",
   "execution_count": 6,
   "metadata": {},
   "outputs": [
    {
     "data": {
      "text/plain": [
       "(array([1, 1, 1, 1, 1, 0, 1, 0, 1, 1, 1, 1, 0, 1, 1, 0, 1, 0, 0, 0, 1, 1,\n",
       "        0, 1, 0, 1, 0, 1, 0, 1]),\n",
       " array([0.80904124, 0.63754988, 0.72320909, 0.54117497, 0.41778854,\n",
       "        0.35639629, 0.        , 0.        , 0.41341689, 0.54890718,\n",
       "        0.33716079, 0.57257743, 0.37787879, 0.65978599, 0.53231489,\n",
       "        0.59999472, 0.54683038, 0.42102725, 0.78220001, 0.84777729,\n",
       "        0.73661484, 0.58167481, 0.57606912, 0.70413104, 0.61018992,\n",
       "        0.56438514, 0.28308363, 0.53826549, 0.92185543, 0.58413441]))"
      ]
     },
     "execution_count": 6,
     "metadata": {},
     "output_type": "execute_result"
    }
   ],
   "source": [
    "vq(data,clust_center)"
   ]
  },
  {
   "cell_type": "code",
   "execution_count": 8,
   "metadata": {},
   "outputs": [],
   "source": [
    "from scipy.cluster.vq import kmeans"
   ]
  },
  {
   "cell_type": "code",
   "execution_count": 10,
   "metadata": {},
   "outputs": [
    {
     "data": {
      "text/plain": [
       "(array([[0.62700034, 0.22515732, 0.36163182],\n",
       "        [0.57037115, 0.63808634, 0.57032535]]),\n",
       " 0.40746613194659986)"
      ]
     },
     "execution_count": 10,
     "metadata": {},
     "output_type": "execute_result"
    }
   ],
   "source": [
    "kmeans(data,clust_center)"
   ]
  },
  {
   "cell_type": "code",
   "execution_count": 11,
   "metadata": {},
   "outputs": [
    {
     "data": {
      "text/plain": [
       "(array([[0.72873434, 0.41859103, 0.36875514],\n",
       "        [0.32159979, 0.58156213, 0.72303352]]),\n",
       " 0.37700788920394046)"
      ]
     },
     "execution_count": 11,
     "metadata": {},
     "output_type": "execute_result"
    }
   ],
   "source": [
    "kmeans(data,2)"
   ]
  },
  {
   "cell_type": "code",
   "execution_count": null,
   "metadata": {},
   "outputs": [],
   "source": []
  }
 ],
 "metadata": {
  "kernelspec": {
   "display_name": "Python 3",
   "language": "python",
   "name": "python3"
  },
  "language_info": {
   "codemirror_mode": {
    "name": "ipython",
    "version": 3
   },
   "file_extension": ".py",
   "mimetype": "text/x-python",
   "name": "python",
   "nbconvert_exporter": "python",
   "pygments_lexer": "ipython3",
   "version": "3.7.6"
  }
 },
 "nbformat": 4,
 "nbformat_minor": 4
}
