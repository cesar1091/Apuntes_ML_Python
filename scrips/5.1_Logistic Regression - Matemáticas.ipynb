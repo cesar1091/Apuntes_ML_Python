{
 "cells": [
  {
   "cell_type": "markdown",
   "metadata": {},
   "source": [
    "# Las Matemáticas tras la regresión logística\n",
    "## Las tablas de contingencia"
   ]
  },
  {
   "cell_type": "code",
   "execution_count": 1,
   "metadata": {},
   "outputs": [],
   "source": [
    "import pandas as pd"
   ]
  },
  {
   "cell_type": "code",
   "execution_count": 2,
   "metadata": {},
   "outputs": [
    {
     "data": {
      "text/html": [
       "<div>\n",
       "<style scoped>\n",
       "    .dataframe tbody tr th:only-of-type {\n",
       "        vertical-align: middle;\n",
       "    }\n",
       "\n",
       "    .dataframe tbody tr th {\n",
       "        vertical-align: top;\n",
       "    }\n",
       "\n",
       "    .dataframe thead th {\n",
       "        text-align: right;\n",
       "    }\n",
       "</style>\n",
       "<table border=\"1\" class=\"dataframe\">\n",
       "  <thead>\n",
       "    <tr style=\"text-align: right;\">\n",
       "      <th></th>\n",
       "      <th>Gender</th>\n",
       "      <th>Purchase</th>\n",
       "    </tr>\n",
       "  </thead>\n",
       "  <tbody>\n",
       "    <tr>\n",
       "      <th>0</th>\n",
       "      <td>Female</td>\n",
       "      <td>Yes</td>\n",
       "    </tr>\n",
       "    <tr>\n",
       "      <th>1</th>\n",
       "      <td>Female</td>\n",
       "      <td>Yes</td>\n",
       "    </tr>\n",
       "    <tr>\n",
       "      <th>2</th>\n",
       "      <td>Female</td>\n",
       "      <td>No</td>\n",
       "    </tr>\n",
       "    <tr>\n",
       "      <th>3</th>\n",
       "      <td>Male</td>\n",
       "      <td>No</td>\n",
       "    </tr>\n",
       "    <tr>\n",
       "      <th>4</th>\n",
       "      <td>Male</td>\n",
       "      <td>Yes</td>\n",
       "    </tr>\n",
       "  </tbody>\n",
       "</table>\n",
       "</div>"
      ],
      "text/plain": [
       "   Gender Purchase\n",
       "0  Female      Yes\n",
       "1  Female      Yes\n",
       "2  Female       No\n",
       "3    Male       No\n",
       "4    Male      Yes"
      ]
     },
     "execution_count": 2,
     "metadata": {},
     "output_type": "execute_result"
    }
   ],
   "source": [
    "df = pd.read_csv(\"../datasets/gender-purchase/Gender Purchase.csv\")\n",
    "df.head()"
   ]
  },
  {
   "cell_type": "code",
   "execution_count": 3,
   "metadata": {},
   "outputs": [
    {
     "data": {
      "text/plain": [
       "(511, 2)"
      ]
     },
     "execution_count": 3,
     "metadata": {},
     "output_type": "execute_result"
    }
   ],
   "source": [
    "df.shape"
   ]
  },
  {
   "cell_type": "code",
   "execution_count": 4,
   "metadata": {},
   "outputs": [
    {
     "data": {
      "text/html": [
       "<div>\n",
       "<style scoped>\n",
       "    .dataframe tbody tr th:only-of-type {\n",
       "        vertical-align: middle;\n",
       "    }\n",
       "\n",
       "    .dataframe tbody tr th {\n",
       "        vertical-align: top;\n",
       "    }\n",
       "\n",
       "    .dataframe thead th {\n",
       "        text-align: right;\n",
       "    }\n",
       "</style>\n",
       "<table border=\"1\" class=\"dataframe\">\n",
       "  <thead>\n",
       "    <tr style=\"text-align: right;\">\n",
       "      <th>Purchase</th>\n",
       "      <th>No</th>\n",
       "      <th>Yes</th>\n",
       "    </tr>\n",
       "    <tr>\n",
       "      <th>Gender</th>\n",
       "      <th></th>\n",
       "      <th></th>\n",
       "    </tr>\n",
       "  </thead>\n",
       "  <tbody>\n",
       "    <tr>\n",
       "      <th>Female</th>\n",
       "      <td>106</td>\n",
       "      <td>159</td>\n",
       "    </tr>\n",
       "    <tr>\n",
       "      <th>Male</th>\n",
       "      <td>125</td>\n",
       "      <td>121</td>\n",
       "    </tr>\n",
       "  </tbody>\n",
       "</table>\n",
       "</div>"
      ],
      "text/plain": [
       "Purchase   No  Yes\n",
       "Gender            \n",
       "Female    106  159\n",
       "Male      125  121"
      ]
     },
     "execution_count": 4,
     "metadata": {},
     "output_type": "execute_result"
    }
   ],
   "source": [
    "contingency_tables = pd.crosstab(df['Gender'], df['Purchase'])\n",
    "contingency_tables"
   ]
  },
  {
   "cell_type": "code",
   "execution_count": 6,
   "metadata": {},
   "outputs": [
    {
     "data": {
      "text/plain": [
       "Gender\n",
       "Female    265\n",
       "Male      246\n",
       "dtype: int64"
      ]
     },
     "execution_count": 6,
     "metadata": {},
     "output_type": "execute_result"
    }
   ],
   "source": [
    "contingency_tables.sum(axis = 1)"
   ]
  },
  {
   "cell_type": "code",
   "execution_count": 7,
   "metadata": {},
   "outputs": [
    {
     "data": {
      "text/plain": [
       "Purchase\n",
       "No     231\n",
       "Yes    280\n",
       "dtype: int64"
      ]
     },
     "execution_count": 7,
     "metadata": {},
     "output_type": "execute_result"
    }
   ],
   "source": [
    "contingency_tables.sum(axis = 0)"
   ]
  },
  {
   "cell_type": "code",
   "execution_count": 8,
   "metadata": {},
   "outputs": [
    {
     "data": {
      "text/html": [
       "<div>\n",
       "<style scoped>\n",
       "    .dataframe tbody tr th:only-of-type {\n",
       "        vertical-align: middle;\n",
       "    }\n",
       "\n",
       "    .dataframe tbody tr th {\n",
       "        vertical-align: top;\n",
       "    }\n",
       "\n",
       "    .dataframe thead th {\n",
       "        text-align: right;\n",
       "    }\n",
       "</style>\n",
       "<table border=\"1\" class=\"dataframe\">\n",
       "  <thead>\n",
       "    <tr style=\"text-align: right;\">\n",
       "      <th>Purchase</th>\n",
       "      <th>No</th>\n",
       "      <th>Yes</th>\n",
       "    </tr>\n",
       "    <tr>\n",
       "      <th>Gender</th>\n",
       "      <th></th>\n",
       "      <th></th>\n",
       "    </tr>\n",
       "  </thead>\n",
       "  <tbody>\n",
       "    <tr>\n",
       "      <th>Female</th>\n",
       "      <td>0.40000</td>\n",
       "      <td>0.60000</td>\n",
       "    </tr>\n",
       "    <tr>\n",
       "      <th>Male</th>\n",
       "      <td>0.50813</td>\n",
       "      <td>0.49187</td>\n",
       "    </tr>\n",
       "  </tbody>\n",
       "</table>\n",
       "</div>"
      ],
      "text/plain": [
       "Purchase       No      Yes\n",
       "Gender                    \n",
       "Female    0.40000  0.60000\n",
       "Male      0.50813  0.49187"
      ]
     },
     "execution_count": 8,
     "metadata": {},
     "output_type": "execute_result"
    }
   ],
   "source": [
    "contingency_tables.astype('float').div(contingency_tables.sum(axis = 1), axis = 0)"
   ]
  },
  {
   "cell_type": "markdown",
   "metadata": {},
   "source": [
    "## Probabilidad condicional\n",
    "\n",
    "- ¿Cuál es la probabilidad de que un cliente compre un producto si es un hombre?\n",
    "- ¿Cuál es la probabilidad de que sabiendo que un cliente compra un producto sea mujer?"
   ]
  },
  {
   "cell_type": "code",
   "execution_count": 2,
   "metadata": {},
   "outputs": [],
   "source": [
    "from IPython.display import display, Math, Latex"
   ]
  },
  {
   "cell_type": "code",
   "execution_count": 5,
   "metadata": {},
   "outputs": [
    {
     "data": {
      "text/latex": [
       "$\\displaystyle P(Purchase|Male) = \\frac{Numero\\ total\\ de\\ compras\\ hechas\\ por\\ hombres}{Numero\\ total\\ de\\ hombres\\ del\\ grupo} = \\frac{Purchase\\cap Male}{Male}$"
      ],
      "text/plain": [
       "<IPython.core.display.Math object>"
      ]
     },
     "metadata": {},
     "output_type": "display_data"
    }
   ],
   "source": [
    "display(Math(r'P(Purchase|Male) = \\frac{Numero\\ total\\ de\\ compras\\ hechas\\ por\\ hombres}{Numero\\ total\\ de\\ hombres\\ del\\ grupo} = \\frac{Purchase\\cap Male}{Male}'))"
   ]
  },
  {
   "cell_type": "markdown",
   "metadata": {},
   "source": [
    "$$P(Purchase|Male) = \\frac{Numero\\ total\\ de\\ compras\\ hechas\\ por\\ hombres}{Numero\\ total\\ de\\ hombres\\ del\\ grupo} = \\frac{Purchase\\cap Male}{Male}$$"
   ]
  },
  {
   "cell_type": "code",
   "execution_count": 6,
   "metadata": {},
   "outputs": [
    {
     "data": {
      "text/plain": [
       "0.491869918699187"
      ]
     },
     "execution_count": 6,
     "metadata": {},
     "output_type": "execute_result"
    }
   ],
   "source": [
    "121/246"
   ]
  },
  {
   "cell_type": "markdown",
   "metadata": {},
   "source": [
    "$$P(Female|Purchase) = \\frac{Numero\\ total\\ de\\ compras\\ hechas\\ por\\ mujeres}{Numero\\ total\\ de\\ compras} = \\frac{Female\\cap Purchase}{Purchase}$$"
   ]
  },
  {
   "cell_type": "code",
   "execution_count": 7,
   "metadata": {},
   "outputs": [
    {
     "data": {
      "text/plain": [
       "0.5678571428571428"
      ]
     },
     "execution_count": 7,
     "metadata": {},
     "output_type": "execute_result"
    }
   ],
   "source": [
    "159/280"
   ]
  },
  {
   "cell_type": "markdown",
   "metadata": {},
   "source": [
    "$$P(Male|Purchase)$$\n"
   ]
  },
  {
   "cell_type": "code",
   "execution_count": 8,
   "metadata": {},
   "outputs": [
    {
     "data": {
      "text/plain": [
       "0.43214285714285716"
      ]
     },
     "execution_count": 8,
     "metadata": {},
     "output_type": "execute_result"
    }
   ],
   "source": [
    "1-159/280"
   ]
  },
  {
   "cell_type": "code",
   "execution_count": 10,
   "metadata": {},
   "outputs": [
    {
     "data": {
      "text/latex": [
       "$\\displaystyle P(Purchase|Male)$"
      ],
      "text/plain": [
       "<IPython.core.display.Math object>"
      ]
     },
     "metadata": {},
     "output_type": "display_data"
    },
    {
     "name": "stdout",
     "output_type": "stream",
     "text": [
      "0.491869918699187\n"
     ]
    },
    {
     "data": {
      "text/latex": [
       "$\\displaystyle P(No\\ Purchase|Male)$"
      ],
      "text/plain": [
       "<IPython.core.display.Math object>"
      ]
     },
     "metadata": {},
     "output_type": "display_data"
    },
    {
     "name": "stdout",
     "output_type": "stream",
     "text": [
      "0.508130081300813\n"
     ]
    },
    {
     "data": {
      "text/latex": [
       "$\\displaystyle P(Purchase|Female)$"
      ],
      "text/plain": [
       "<IPython.core.display.Math object>"
      ]
     },
     "metadata": {},
     "output_type": "display_data"
    },
    {
     "name": "stdout",
     "output_type": "stream",
     "text": [
      "0.6\n"
     ]
    },
    {
     "data": {
      "text/latex": [
       "$\\displaystyle P(No\\ Purchase|Female)$"
      ],
      "text/plain": [
       "<IPython.core.display.Math object>"
      ]
     },
     "metadata": {},
     "output_type": "display_data"
    },
    {
     "name": "stdout",
     "output_type": "stream",
     "text": [
      "0.4\n"
     ]
    }
   ],
   "source": [
    "display(Math(r'P(Purchase|Male)'))\n",
    "print(121/246)\n",
    "display(Math(r'P(No\\ Purchase|Male)'))\n",
    "print(125/246)\n",
    "display(Math(r'P(Purchase|Female)'))\n",
    "print(159/265)\n",
    "display(Math(r'P(No\\ Purchase|Female)'))\n",
    "print(106/265)"
   ]
  },
  {
   "cell_type": "markdown",
   "metadata": {},
   "source": [
    "### Ratio de probabilidades\n",
    "Cociente entre los casos de éxito sobre los de fracaso en el suceso estudiado y para cada grupo"
   ]
  },
  {
   "cell_type": "code",
   "execution_count": 14,
   "metadata": {},
   "outputs": [
    {
     "data": {
      "text/latex": [
       "$\\displaystyle P_m = \\ probabilidad\\ de\\ hacer\\ compra\\ sabiendo\\ que\\ es\\ un\\ hombre$"
      ],
      "text/plain": [
       "<IPython.core.display.Math object>"
      ]
     },
     "metadata": {},
     "output_type": "display_data"
    },
    {
     "data": {
      "text/latex": [
       "$\\displaystyle P_f = \\ probabilidad\\ de\\ hacer\\ compra\\ sabiendo\\ que\\ es\\ una\\ mujer$"
      ],
      "text/plain": [
       "<IPython.core.display.Math object>"
      ]
     },
     "metadata": {},
     "output_type": "display_data"
    },
    {
     "data": {
      "text/latex": [
       "$\\displaystyle odds_{purchase,male} = \\frac {P_m}{1-P_m}$"
      ],
      "text/plain": [
       "<IPython.core.display.Math object>"
      ]
     },
     "metadata": {},
     "output_type": "display_data"
    },
    {
     "data": {
      "text/latex": [
       "$\\displaystyle odds_{purchase,female} = \\frac {P_f}{1-P_f}$"
      ],
      "text/plain": [
       "<IPython.core.display.Math object>"
      ]
     },
     "metadata": {},
     "output_type": "display_data"
    }
   ],
   "source": [
    "display(Math(r'P_m = \\ probabilidad\\ de\\ hacer\\ compra\\ sabiendo\\ que\\ es\\ un\\ hombre'))\n",
    "display(Math(r'P_f = \\ probabilidad\\ de\\ hacer\\ compra\\ sabiendo\\ que\\ es\\ una\\ mujer'))\n",
    "display(Math(r'odds_{purchase,male} = \\frac {P_m}{1-P_m}'))\n",
    "display(Math(r'odds_{purchase,female} = \\frac {P_f}{1-P_f}'))"
   ]
  },
  {
   "cell_type": "code",
   "execution_count": 15,
   "metadata": {},
   "outputs": [],
   "source": [
    "pm = 121/246\n",
    "pf = 159/265\n",
    "odds_m = pm/(1-pm)\n",
    "odds_f = pf/(1-pf)"
   ]
  },
  {
   "cell_type": "code",
   "execution_count": 16,
   "metadata": {},
   "outputs": [
    {
     "data": {
      "text/plain": [
       "0.9680000000000002"
      ]
     },
     "execution_count": 16,
     "metadata": {},
     "output_type": "execute_result"
    }
   ],
   "source": [
    "odds_m"
   ]
  },
  {
   "cell_type": "code",
   "execution_count": 17,
   "metadata": {
    "scrolled": true
   },
   "outputs": [
    {
     "data": {
      "text/plain": [
       "1.4999999999999998"
      ]
     },
     "execution_count": 17,
     "metadata": {},
     "output_type": "execute_result"
    }
   ],
   "source": [
    "odds_f"
   ]
  },
  {
   "cell_type": "markdown",
   "metadata": {},
   "source": [
    "* SI EL RATIO ES SUPERIOR 1, ES MÁS PROBABLE EL EXITO QUE EL FRACASO\n",
    "* SI EL RATIO ES IGUAL A 1, EXITO Y FRACASO SON EQUIPROBABLES\n",
    "* SI EL RATIO ES MENOR A 1 EL FRACASO ES MÁS PROBABLE QUE EL EXITO, CUANTO MENOR EL RATIO, MENOR LA PROBABILIDAD DE EXITO"
   ]
  },
  {
   "cell_type": "code",
   "execution_count": 18,
   "metadata": {},
   "outputs": [
    {
     "data": {
      "text/latex": [
       "$\\displaystyle odds_{ratio} = \\frac{odds_{purchase, male}}{odds_{purchase, female}}$"
      ],
      "text/plain": [
       "<IPython.core.display.Math object>"
      ]
     },
     "metadata": {},
     "output_type": "display_data"
    }
   ],
   "source": [
    "display(Math(r'odds_{ratio} = \\frac{odds_{purchase, male}}{odds_{purchase, female}}'))"
   ]
  },
  {
   "cell_type": "code",
   "execution_count": 19,
   "metadata": {},
   "outputs": [],
   "source": [
    "odds_r = odds_m/odds_f"
   ]
  },
  {
   "cell_type": "code",
   "execution_count": 20,
   "metadata": {},
   "outputs": [
    {
     "data": {
      "text/plain": [
       "0.6453333333333335"
      ]
     },
     "execution_count": 20,
     "metadata": {},
     "output_type": "execute_result"
    }
   ],
   "source": [
    "odds_r"
   ]
  },
  {
   "cell_type": "markdown",
   "metadata": {},
   "source": [
    "## La regresion logística desde la regresión lineal\n",
    "En la regresión lineal\n",
    "$$ y = \\alpha + \\beta \\cdot x $$\n",
    "$$ (x,y)\\in [-\\infty, +\\infty] $$"
   ]
  },
  {
   "cell_type": "markdown",
   "metadata": {},
   "source": [
    "Mientras que en la logistica\n",
    "$$ y\\in\\{0,1\\} $$\n",
    "$$ P\\in [0,1] $$\n",
    "$$ X\\in [-\\infty, +\\infty] $$\n",
    "$$ P = \\alpha + \\beta\\cdot X $$\n",
    "$P$ es la probabiblidad condicionada de exito o de fracaso condicionada a la presencia de la variable X\n",
    "\n",
    "Si linealizamos no podriamos solucionar la clasificacion\n",
    "\n",
    "$$ \\frac{P}{1-P} = \\alpha + \\beta \\cdot X $$\n",
    "\n",
    "Si modelamos con la función logaritmo natural\n",
    "\n",
    "$$ \\ln{\\frac{P}{1-P}} = \\alpha + \\beta \\cdot X $$\n",
    "$$ \\begin{cases} \\frac{P}{1-P}\\in [0,1] \\rightarrow \\ln{\\frac{P}{1-P}}\\in [-\\infty,0]\\\\ \n",
    "\\frac{P}{1-P}\\in [1,+\\infty] \\rightarrow \\ln{\\frac{P}{1-P}}\\in [0,+\\infty]\n",
    "\\end{cases}$$\n",
    "\n",
    "Despejamos:\n",
    "$$ \\ln{\\frac{P}{1-P}} = \\alpha + \\beta \\cdot X$$\n",
    "$$ \\frac{P}{1-P} = e^{\\alpha + \\beta \\cdot X} $$\n",
    "$$ P = \\frac{e^{\\alpha + \\beta \\cdot X}}{1 + e^{\\alpha + \\beta \\cdot X}} $$\n",
    "$$ P = \\frac{1}{1+e^{-(\\alpha + \\beta \\cdot X)}} $$"
   ]
  },
  {
   "cell_type": "markdown",
   "metadata": {},
   "source": [
    "## Regresión logística multiple\n",
    "\n",
    "$$ P =  \\frac{1}{1 + e^{-(\\alpha + \\sum_{i=1}^n \\beta_i \\cdot x_i)}} $$\n",
    "\n",
    "De forma vectorial:\n",
    "\n",
    "$$ \\vec{\\beta} = (\\beta_{1},\\beta_{2},\\cdots,\\beta_{n}) $$\n",
    "$$ \\vec{X} = (x_{1},x_{2},\\cdots,x_{n}) $$\n",
    "$$ P = \\frac{1}{1 + e^{-(\\alpha + \\vec{\\beta} \\cdot \\vec{X})}} $$"
   ]
  },
  {
   "cell_type": "code",
   "execution_count": null,
   "metadata": {},
   "outputs": [],
   "source": []
  },
  {
   "cell_type": "code",
   "execution_count": null,
   "metadata": {},
   "outputs": [],
   "source": []
  },
  {
   "cell_type": "code",
   "execution_count": null,
   "metadata": {},
   "outputs": [],
   "source": []
  },
  {
   "cell_type": "code",
   "execution_count": null,
   "metadata": {},
   "outputs": [],
   "source": []
  },
  {
   "cell_type": "code",
   "execution_count": null,
   "metadata": {},
   "outputs": [],
   "source": []
  }
 ],
 "metadata": {
  "kernelspec": {
   "display_name": "Python 3",
   "language": "python",
   "name": "python3"
  },
  "language_info": {
   "codemirror_mode": {
    "name": "ipython",
    "version": 3
   },
   "file_extension": ".py",
   "mimetype": "text/x-python",
   "name": "python",
   "nbconvert_exporter": "python",
   "pygments_lexer": "ipython3",
   "version": "3.7.6"
  }
 },
 "nbformat": 4,
 "nbformat_minor": 4
}
